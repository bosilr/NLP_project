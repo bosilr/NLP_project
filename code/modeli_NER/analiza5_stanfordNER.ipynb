{
 "cells": [
  {
   "cell_type": "code",
   "execution_count": 41,
   "metadata": {
    "tags": []
   },
   "outputs": [],
   "source": [
    "import os\n",
    "from nltk.tag import StanfordNERTagger\n",
    "from nltk import sent_tokenize, word_tokenize\n",
    "import operator\n",
    "from sner import Ner\n",
    "\n",
    "from nervaluate import Evaluator\n",
    "from nltk.tokenize import sent_tokenize\n"
   ]
  },
  {
   "cell_type": "code",
   "execution_count": 42,
   "metadata": {
    "collapsed": false,
    "jupyter": {
     "outputs_hidden": false
    },
    "pycharm": {
     "name": "#%%\n"
    }
   },
   "outputs": [],
   "source": [
    "model = \"/Users/matijagercer/Desktop/stanford-ner-2020-11-17/classifiers/english.all.3class.distsim.crf.ser.gz\"\n",
    "jar = \"/Users/matijagercer/Desktop/stanford-ner-2020-11-17/stanford-ner-4.2.0.jar\"\n",
    "st = StanfordNERTagger(model, jar,encoding='utf-8')\n"
   ]
  },
  {
   "cell_type": "code",
   "execution_count": 43,
   "metadata": {
    "collapsed": false,
    "jupyter": {
     "outputs_hidden": false
    },
    "pycharm": {
     "name": "#%%\n"
    }
   },
   "outputs": [],
   "source": [
    "# Termina:\n",
    "# cd your_stanford_ner_dir\n",
    "# java -Djava.ext.dirs=./lib -cp stanford-ner.jar edu.stanford.nlp.ie.NERServer -port 9199 -loadClassifier ./classifiers/english.all.3class.distsim.crf.ser.gz\n",
    "\n",
    "# Za več preberi:\n",
    "# https://stackoverflow.com/questions/33748554/how-to-speed-up-ne-recognition-with-stanford-ner-with-python-nltk\n",
    "\n",
    "tagger = Ner(host='localhost',port=9199)\n"
   ]
  },
  {
   "cell_type": "code",
   "execution_count": 44,
   "metadata": {
    "collapsed": false,
    "jupyter": {
     "outputs_hidden": false
    },
    "pycharm": {
     "name": "#%%\n"
    }
   },
   "outputs": [],
   "source": [
    "def read_text(path):\n",
    "    with open(path, encoding=\"utf-8\") as f:\n",
    "        text = f.read()\n",
    "        text = text.replace('\\r', ' ').replace('\\n', ' ')\\\n",
    "            .replace(\"’\", \"'\").replace(\"\\\"\", \"\").replace(\"”\", \"\").replace(\"“\", \"\")\n",
    "    return text\n",
    "\n",
    "\n",
    "def stanford_NER(book, eval = False):\n",
    "    \"\"\"\n",
    "    stanford_NER vrne seznam, v katerem so shranjene prepoznane identitete glede na posamezni stavek\n",
    "    :param book: str\n",
    "    :return: entity_dict (seznam slovarjev kot npr. [name, tag, start_pos, stop_pos, line_num. token_num])\n",
    "    \"\"\"\n",
    "    \n",
    "    \n",
    "    # EVAL ---\n",
    "    if eval == True:\n",
    "        sentences, sentences_tag = conll_read()\n",
    "        #print(len(sentences), \"--------\")\n",
    "    else:\n",
    "        sentences = sent_tokenize(book)\n",
    "    sentences_NER = []\n",
    "    sentences_NER_results = []\n",
    "    # EVAL ---\n",
    "\n",
    "    entity_dict = []\n",
    "\n",
    "    for line_num, line in enumerate(sentences):\n",
    "        \n",
    "        # EVAL ---\n",
    "        words_list = word_tokenize(line)\n",
    "        tags_list = [\"O\"] * len(words_list)\n",
    "        sentences_NER.append(words_list)\n",
    "        # EVAL ---\n",
    "\n",
    "        #tokenized_text = word_tokenize(line)\n",
    "        #classified_text = st.tag(tokenized_text)\n",
    "\n",
    "        classified_text = tagger.get_entities(line)\n",
    "\n",
    "        token_num = 0\n",
    "        for (name, tag) in classified_text:\n",
    "            if tag != 'O':\n",
    "                info_dict = {}\n",
    "                info_dict[\"name\"] = name\n",
    "                info_dict[\"tag\"] = tag\n",
    "                info_dict[\"start_pos\"] = token_num\n",
    "                info_dict[\"stop_pos\"] = token_num+1\n",
    "                info_dict[\"line_num\"] = line_num\n",
    "                entity_dict.append(info_dict)\n",
    "                \n",
    "                \n",
    "                # EVAL: ---\n",
    "                #names = word.text.replace(\"'s\", \"\")\n",
    "                #names = names.split(\" \")\n",
    "                if tag == \"PERSON\":\n",
    "                    try:\n",
    "                        idx = words_list.index(name)\n",
    "                        tags_list[idx] = \"B-PER\"\n",
    "                    except:\n",
    "                        print(\"Not found: \", name)\n",
    "                # EVAL ---\n",
    "                \n",
    "                \n",
    "            token_num += 1\n",
    "        sentences_NER_results.append(tags_list)\n",
    "\n",
    "    return entity_dict, sentences_NER, sentences_NER_results\n",
    "\n",
    "\n",
    "def get_names_from_NER(entity_dict):\n",
    "    \"\"\"\n",
    "    get_names_from_NER sprejme entity_dict in vrne urejen seznam terk (\"ime\", št_zaznano)\n",
    "    :param entity_dict: dict (seznam dictov)\n",
    "    :return: unique_names: list\n",
    "    \"\"\"\n",
    "    unique_names = {}\n",
    "\n",
    "    for entity in entity_dict:\n",
    "        if entity[\"tag\"] == \"PERSON\":\n",
    "            if entity[\"name\"] not in unique_names:\n",
    "                unique_names[entity[\"name\"]] = 1\n",
    "            else:\n",
    "                unique_names[entity[\"name\"]] += 1\n",
    "    unique_names = sorted(unique_names.items(), key=operator.itemgetter(1),reverse=True)\n",
    "\n",
    "    return unique_names\n",
    "\n",
    "\n",
    "\n",
    "def conll_read():\n",
    "    with open(\"conll2003/valid.txt\") as f:\n",
    "        lines = f.readlines()\n",
    "    sentences = []\n",
    "    sentences_tag = []\n",
    "    tmp = \"\"\n",
    "    tmp_tag = \"\"\n",
    "    tags = []\n",
    "    for i in range(len(lines)):\n",
    "\n",
    "        line = lines[i]\n",
    "        line = line.split(\" \")\n",
    "        text_word = line[0]\n",
    "\n",
    "        if text_word[0] != \"-\":\n",
    "            if text_word == \"\\n\":\n",
    "                # print(tmp)\n",
    "                # print(tmp_tag)\n",
    "                # print(\"-------\")\n",
    "                sentences.append(tmp)\n",
    "                tmp = \"\"\n",
    "                #sentences_tag.append(tmp_tag)\n",
    "                #tmp_tag = \"\"\n",
    "                sentences_tag.append(tags)\n",
    "                tags = []\n",
    "\n",
    "            elif text_word == \"(\" or text_word == \")\" or text_word == '\"' or text_word == ':':\n",
    "                pass\n",
    "            else:\n",
    "                if text_word[0] != \".\" and text_word[0] != \",\" and text_word[0] != \":\" and text_word[0] != \";\"\\\n",
    "                        and text_word[0] != \"!\" and text_word[0] != \"?\" and text_word[0] != \")\" and text_word[0] != \"'\":   #or text_word[0] != \",\" or text_word[0] != \"(\" or text_word[0] != \")\":\n",
    "                    tmp = tmp + \" \" + text_word\n",
    "                    line[3] = line[3].replace(\"\\n\", \"\")\n",
    "\n",
    "                    if line[3] == \"B-PER\" or line[3] == \"I-PER\":\n",
    "                        line[3] = \"B-PER\"\n",
    "                        #tmp_tag = tmp_tag + \" \" + line[3]\n",
    "                        tags.append(line[3])\n",
    "                    else:\n",
    "                        line[3] = \"O\"\n",
    "                        #tmp_tag = tmp_tag + \" \" + line[3]\n",
    "                        tags.append(line[3])\n",
    "                else:\n",
    "                    tmp = tmp +  text_word\n",
    "                    line[3] = \"O\"\n",
    "                    tags.append(line[3])\n",
    "    return sentences, sentences_tag\n"
   ]
  },
  {
   "cell_type": "code",
   "execution_count": 45,
   "metadata": {
    "collapsed": false,
    "jupyter": {
     "outputs_hidden": false
    },
    "pycharm": {
     "name": "#%%\n"
    }
   },
   "outputs": [
    {
     "name": "stdout",
     "output_type": "stream",
     "text": [
      "Jon 31\n",
      "Robb 29\n",
      "Greyjoy 12\n",
      "Jory 11\n",
      "Theon 7\n",
      "Bran 6\n",
      "Hullen 5\n",
      "Stark 3\n",
      "Snow 3\n",
      "Nan 2\n",
      "Starks 2\n",
      "Cassel 2\n",
      "Robert 2\n",
      "of 2\n",
      "the 2\n",
      "Mance 1\n",
      "Rayder 1\n",
      "Eddard 1\n",
      "House 1\n",
      "Baratheon 1\n",
      "Warden 1\n",
      "North 1\n",
      "Targaryen 1\n",
      "Harwin 1\n",
      "Ser 1\n",
      "Rodrik 1\n",
      "Rickon 1\n",
      "Desmond 1\n",
      "Winterfell 1\n"
     ]
    }
   ],
   "source": [
    "book = read_text('../../data/books/ASongOfIceAndFire/AGOT/chapters/1_Bran_1.txt')\n",
    "entity_dict, sentences_NER, sentences_NER_results = stanford_NER(book, eval = False)\n",
    "\n",
    "unique_names = get_names_from_NER(entity_dict)\n",
    "\n",
    "for (name, num) in unique_names:\n",
    "    if True: #num > 1:\n",
    "        print(name, num)\n"
   ]
  },
  {
   "cell_type": "code",
   "execution_count": 40,
   "metadata": {},
   "outputs": [],
   "source": [
    "# Evalvacija na datasetu Conll2003 (osredotočena na imena)\n",
    "\n",
    "def eval_wrapper():\n",
    "    entity_dict, sentences_NER, sentences_NER_results = stanford_NER(\"\", eval= True)\n",
    "    unique_names = get_names_from_NER(entity_dict)\n",
    "\n",
    "    # Kontrola podatkov\n",
    "    sentences_org, sentences_org_tag = conll_read()\n",
    "    # for x in range(len(sentences_NER)):\n",
    "    #     print(\"-----------\", x)\n",
    "    #     #print(len(sentences_org_tag[x]))\n",
    "    #     print(len(sentences_NER[x]))\n",
    "    #     print(len(sentences_NER_results[x]))\n",
    "\n",
    "    #     #print(sentences_org[x])    # 22 26\n",
    "    #     print(sentences_NER[x])\n",
    "    #     print(sentences_org_tag[x])\n",
    "    #     print(sentences_NER_results[x])\n",
    "    \n",
    "    true = sentences_org_tag\n",
    "    pred = sentences_NER_results\n",
    "    evaluator = Evaluator(true, pred, tags=['PER'], loader=\"list\")\n",
    "\n",
    "    results, results_by_tag = evaluator.evaluate()\n",
    "    print(results)"
   ]
  },
  {
   "cell_type": "code",
   "execution_count": 37,
   "metadata": {},
   "outputs": [],
   "source": []
  },
  {
   "cell_type": "code",
   "execution_count": 49,
   "metadata": {},
   "outputs": [
    {
     "name": "stdout",
     "output_type": "stream",
     "text": [
      "{'ent_type': {'correct': 102, 'incorrect': 0, 'partial': 0, 'missed': 62, 'spurious': 27, 'possible': 164, 'actual': 129, 'precision': 0.7906976744186046, 'recall': 0.6219512195121951, 'f1': 0.6962457337883959}, 'partial': {'correct': 102, 'incorrect': 0, 'partial': 0, 'missed': 62, 'spurious': 27, 'possible': 164, 'actual': 129, 'precision': 0.7906976744186046, 'recall': 0.6219512195121951, 'f1': 0.6962457337883959}, 'strict': {'correct': 102, 'incorrect': 0, 'partial': 0, 'missed': 62, 'spurious': 27, 'possible': 164, 'actual': 129, 'precision': 0.7906976744186046, 'recall': 0.6219512195121951, 'f1': 0.6962457337883959}, 'exact': {'correct': 102, 'incorrect': 0, 'partial': 0, 'missed': 62, 'spurious': 27, 'possible': 164, 'actual': 129, 'precision': 0.7906976744186046, 'recall': 0.6219512195121951, 'f1': 0.6962457337883959}}\n"
     ]
    }
   ],
   "source": [
    "## Evalvacija za I. poglavje GoT\n",
    "\n",
    "from chapter__1annotated_1class import chapter1_lst\n",
    "\n",
    "# Kontrola:\n",
    "# print(len(sentences_NER_results))\n",
    "# print(len(chapter1_lst))\n",
    "\n",
    "# for x in range(len(sentences_NER)):\n",
    "#     print(\"-----------\", x)\n",
    "#     print(len(sentences_NER[x]))\n",
    "#     print(len(sentences_NER_results[x]))\n",
    "#     print(len(chapter1_lst[x]))\n",
    "    \n",
    "\n",
    "#     print(sentences_NER[x])\n",
    "#     print(sentences_NER_results[x])\n",
    "#     print(chapter1_lst[x])\n",
    "\n",
    "true = chapter1_lst\n",
    "pred = sentences_NER_results\n",
    "evaluator = Evaluator(true, pred, tags=['PER'], loader=\"list\")\n",
    "\n",
    "results, results_by_tag = evaluator.evaluate()\n",
    "print(results)"
   ]
  },
  {
   "cell_type": "code",
   "execution_count": null,
   "metadata": {},
   "outputs": [],
   "source": []
  }
 ],
 "metadata": {
  "kernelspec": {
   "display_name": "Python 3 (ipykernel)",
   "language": "python",
   "name": "python3"
  },
  "language_info": {
   "codemirror_mode": {
    "name": "ipython",
    "version": 3
   },
   "file_extension": ".py",
   "mimetype": "text/x-python",
   "name": "python",
   "nbconvert_exporter": "python",
   "pygments_lexer": "ipython3",
   "version": "3.8.10"
  }
 },
 "nbformat": 4,
 "nbformat_minor": 4
}
