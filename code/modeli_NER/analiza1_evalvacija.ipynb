{
 "cells": [
  {
   "cell_type": "code",
   "execution_count": null,
   "outputs": [],
   "source": [
    "from nervaluate import Evaluator\n",
    "\n",
    "\n",
    "true = [\n",
    "    ['O', 'O', 'B-PER', 'I-PER', 'O'],\n",
    "    ['O', 'B-LOC', 'I-LOC', 'B-LOC', 'I-LOC', 'O'],\n",
    "]\n",
    "\n",
    "pred = [\n",
    "    ['O', 'O', 'B-PER', 'I-PER', 'O'],\n",
    "    ['O', 'B-LOC', 'I-LOC', 'B-LOC', 'I-LOC', 'O'],\n",
    "]\n",
    "\n",
    "evaluator = Evaluator(true, pred, tags=['LOC', 'PER'], loader=\"list\")\n",
    "\n",
    "results, results_by_tag = evaluator.evaluate()"
   ],
   "metadata": {
    "collapsed": false,
    "pycharm": {
     "name": "#%%\n"
    }
   }
  },
  {
   "cell_type": "code",
   "execution_count": null,
   "outputs": [],
   "source": [
    "print(results1)"
   ],
   "metadata": {
    "collapsed": false,
    "pycharm": {
     "name": "#%%\n"
    }
   }
  }
 ],
 "metadata": {
  "kernelspec": {
   "display_name": "Python 3",
   "language": "python",
   "name": "python3"
  },
  "language_info": {
   "codemirror_mode": {
    "name": "ipython",
    "version": 2
   },
   "file_extension": ".py",
   "mimetype": "text/x-python",
   "name": "python",
   "nbconvert_exporter": "python",
   "pygments_lexer": "ipython2",
   "version": "2.7.6"
  }
 },
 "nbformat": 4,
 "nbformat_minor": 0
}