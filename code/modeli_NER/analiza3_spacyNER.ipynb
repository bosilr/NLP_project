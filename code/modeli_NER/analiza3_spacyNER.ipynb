{
 "cells": [
  {
   "cell_type": "code",
   "execution_count": 24,
   "metadata": {
    "tags": []
   },
   "outputs": [],
   "source": [
    "# import numpy as np\n",
    "# import pandas as pd\n",
    "# import os\n",
    "#\n",
    "#\n",
    "# from afinn import Afinn\n",
    "#\n",
    "# from collections import Counter\n",
    "# from sklearn.feature_extraction.text import CountVectorizer\n",
    "# import matplotlib.pyplot as plt\n",
    "# import networkx as nx\n",
    "\n",
    "import spacy\n",
    "from nltk import sent_tokenize, word_tokenize\n",
    "import itertools\n",
    "import en_core_web_sm\n",
    "import operator\n",
    "\n",
    "from nervaluate import Evaluator\n",
    "from nltk.tokenize import sent_tokenize\n",
    "\n",
    "\n"
   ]
  },
  {
   "cell_type": "code",
   "execution_count": 25,
   "metadata": {
    "collapsed": false,
    "jupyter": {
     "outputs_hidden": false
    },
    "pycharm": {
     "name": "#%%\n"
    }
   },
   "outputs": [],
   "source": [
    "nlp = en_core_web_sm.load()"
   ]
  },
  {
   "cell_type": "code",
   "execution_count": 26,
   "metadata": {
    "collapsed": false,
    "jupyter": {
     "outputs_hidden": false
    },
    "pycharm": {
     "name": "#%%\n"
    }
   },
   "outputs": [],
   "source": [
    "def read_text(path):\n",
    "    with open(path, encoding=\"utf-8\") as f:\n",
    "        text = f.read()\n",
    "        text = text.replace('\\r', ' ').replace('\\n', ' ')\\\n",
    "            .replace(\"’\", \"'\").replace(\"\\\"\", \"\").replace(\"”\", \"\").replace(\"“\", \"\")\n",
    "    return text\n",
    "\n",
    "def spacy_NER(book, eval = False):\n",
    "    \"\"\"\n",
    "    spacy_NER vrne seznam, v katerem so shranjene prepoznane identitete glede na posamezni stavek\n",
    "    :param book: str\n",
    "    :return: entity_dict (seznam slovarjev kot npr. [name, tag, start_pos, stop_pos, line_num. token_num])\n",
    "    \"\"\"\n",
    "\n",
    "    # EVAL ---\n",
    "    if eval == True:\n",
    "        sentences, sentences_tag = conll_read()\n",
    "        #print(len(sentences), \"--------\")\n",
    "    else:\n",
    "        sentences = sent_tokenize(book)\n",
    "    sentences_NER = []\n",
    "    sentences_NER_results = []\n",
    "    # EVAL ---\n",
    "\n",
    "    # 00 Pretvori knjigo v stavke:\n",
    "    #sentences = sent_tokenize(book)\n",
    "    entity_dict = []\n",
    "\n",
    "\n",
    "    for line_num, line in enumerate(sentences):\n",
    "        #print(line_num)\n",
    "\n",
    "        # EVAL ---\n",
    "        words_list = word_tokenize(line)\n",
    "        tags_list = [\"O\"] * len(words_list)\n",
    "        sentences_NER.append(words_list)\n",
    "        # EVAL ---\n",
    "\n",
    "        entities = nlp(line)\n",
    "        for word in entities.ents:\n",
    "            #print(word.text,word.label_, word.start, word.end)\n",
    "            info_dict = {}\n",
    "            info_dict[\"name\"] = word.text\n",
    "            info_dict[\"tag\"] = word.label_\n",
    "            info_dict[\"start_pos\"] = word.start\n",
    "            info_dict[\"stop_pos\"] = word.end\n",
    "            info_dict[\"line_num\"] = line_num\n",
    "            entity_dict.append(info_dict)\n",
    "\n",
    "            # EVAL: ---\n",
    "            names = word.text.replace(\"'s\", \"\")\n",
    "            names = names.split(\" \")\n",
    "            ff_flag = False\n",
    "            if word.label_ == \"PERSON\":\n",
    "                for name in names:\n",
    "                    try:\n",
    "                        if ff_flag == False:\n",
    "                            idx = words_list.index(name)\n",
    "                            tags_list[idx] = \"B-PER\"\n",
    "                            ff_flag = True\n",
    "                        else:\n",
    "                            idx = words_list.index(name)\n",
    "                            tags_list[idx] = \"I-PER\"\n",
    "                    except:\n",
    "                        print(\"Not found: \", name)\n",
    "            # EVAL ---\n",
    "        sentences_NER_results.append(tags_list)\n",
    "    return entity_dict, sentences_NER, sentences_NER_results\n",
    "\n",
    "\n",
    "def get_names_from_NER(entity_dict):\n",
    "    \"\"\"\n",
    "    get_names_from_NER sprejme entity_dict in vrne urejen seznam terk (\"ime\", št_zaznano)\n",
    "    :param entity_dict: dict (seznam dictov)\n",
    "    :return: unique_names: list\n",
    "    \"\"\"\n",
    "    unique_names = {}\n",
    "\n",
    "    for entity in entity_dict:\n",
    "        #print(entity)\n",
    "        if entity[\"tag\"] == \"PERSON\":\n",
    "            if entity[\"name\"] not in unique_names:\n",
    "                unique_names[entity[\"name\"]] = 1\n",
    "            else:\n",
    "                unique_names[entity[\"name\"]] += 1\n",
    "    unique_names = sorted(unique_names.items(), key=operator.itemgetter(1),reverse=True)\n",
    "\n",
    "    return unique_names\n",
    "\n",
    "def conll_read():\n",
    "    with open(\"conll2003/valid.txt\") as f:\n",
    "        lines = f.readlines()\n",
    "    sentences = []\n",
    "    sentences_tag = []\n",
    "    tmp = \"\"\n",
    "    tmp_tag = \"\"\n",
    "    tags = []\n",
    "    for i in range(len(lines)):\n",
    "\n",
    "        line = lines[i]\n",
    "        line = line.split(\" \")\n",
    "        text_word = line[0]\n",
    "\n",
    "        if text_word[0] != \"-\":\n",
    "            if text_word == \"\\n\":\n",
    "                # print(tmp)\n",
    "                # print(tmp_tag)\n",
    "                # print(\"-------\")\n",
    "                sentences.append(tmp)\n",
    "                tmp = \"\"\n",
    "                #sentences_tag.append(tmp_tag)\n",
    "                #tmp_tag = \"\"\n",
    "                sentences_tag.append(tags)\n",
    "                tags = []\n",
    "\n",
    "            elif text_word == \"(\" or text_word == \")\" or text_word == '\"' or text_word == ':':\n",
    "                pass\n",
    "            else:\n",
    "                if text_word[0] != \".\" and text_word[0] != \",\" and text_word[0] != \":\" and text_word[0] != \";\"\\\n",
    "                        and text_word[0] != \"!\" and text_word[0] != \"?\" and text_word[0] != \")\" and text_word[0] != \"'\":   #or text_word[0] != \",\" or text_word[0] != \"(\" or text_word[0] != \")\":\n",
    "                    tmp = tmp + \" \" + text_word\n",
    "                    line[3] = line[3].replace(\"\\n\", \"\")\n",
    "\n",
    "                    if line[3] == \"B-PER\" or line[3] == \"I-PER\":\n",
    "                        #line[3] = \"B-PER\"\n",
    "                        #tmp_tag = tmp_tag + \" \" + line[3]\n",
    "                        tags.append(line[3])\n",
    "                    else:\n",
    "                        line[3] = \"O\"\n",
    "                        #tmp_tag = tmp_tag + \" \" + line[3]\n",
    "                        tags.append(line[3])\n",
    "                else:\n",
    "                    tmp = tmp +  text_word\n",
    "                    line[3] = \"O\"\n",
    "                    tags.append(line[3])\n",
    "    return sentences, sentences_tag\n",
    "\n"
   ]
  },
  {
   "cell_type": "code",
   "execution_count": 27,
   "metadata": {
    "collapsed": false,
    "jupyter": {
     "outputs_hidden": false
    },
    "pycharm": {
     "name": "#%%\n"
    }
   },
   "outputs": [
    {
     "name": "stdout",
     "output_type": "stream",
     "text": [
      "Jon 15\n",
      "Theon Greyjoy 4\n",
      "Greyjoy 4\n",
      "Hullen 4\n",
      "Stark 3\n",
      "Jon Snow 3\n",
      "Jory Cassel 2\n",
      "Eddard Stark 1\n",
      "Rhoynar 1\n",
      "Robert 1\n",
      "Bran 1\n",
      "Harwin 1\n",
      "Ser Rodrik's 1\n",
      "Rickon 1\n",
      "Snow 1\n",
      "Jon thoughtfully 1\n",
      "Desmond 1\n"
     ]
    }
   ],
   "source": [
    "book = read_text('../../data/books/ASongOfIceAndFire/AGOT/chapters/1_Bran_1.txt')\n",
    "\n",
    "entity_dict, sentences_NER, sentences_NER_results = spacy_NER(book, False)\n",
    "unique_names = get_names_from_NER(entity_dict)\n",
    "\n",
    "for (name, num) in unique_names:\n",
    "    if True: #num > 1:\n",
    "        print(name, num)\n",
    "\n"
   ]
  },
  {
   "cell_type": "code",
   "execution_count": 21,
   "metadata": {
    "collapsed": false,
    "jupyter": {
     "outputs_hidden": false
    },
    "pycharm": {
     "name": "#%%\n"
    }
   },
   "outputs": [],
   "source": []
  },
  {
   "cell_type": "code",
   "execution_count": 22,
   "metadata": {
    "collapsed": false,
    "jupyter": {
     "outputs_hidden": false
    },
    "pycharm": {
     "name": "#%%\n"
    }
   },
   "outputs": [],
   "source": [
    "# Evalvacija na datasetu Conll2003 (osredotočena na imena)\n",
    "\n",
    "def eval_wrapper():\n",
    "    entity_dict, sentences_NER, sentences_NER_results = spacy_NER(\"\", eval= True)\n",
    "    unique_names = get_names_from_NER(entity_dict)\n",
    "\n",
    "    # Kontrola podatkov\n",
    "    sentences_org, sentences_org_tag = conll_read()\n",
    "    # for x in range(len(sentences_NER)):\n",
    "    #     print(\"-----------\", x)\n",
    "    #     #print(len(sentences_org_tag[x]))\n",
    "    #     print(len(sentences_NER[x]))\n",
    "    #     print(len(sentences_NER_results[x]))\n",
    "\n",
    "    #     #print(sentences_org[x])    # 22 26\n",
    "    #     print(sentences_NER[x])\n",
    "    #     print(sentences_org_tag[x])\n",
    "    #     print(sentences_NER_results[x])\n",
    "    \n",
    "    true = sentences_org_tag\n",
    "    pred = sentences_NER_results\n",
    "    evaluator = Evaluator(true, pred, tags=['PER'], loader=\"list\")\n",
    "\n",
    "    results, results_by_tag = evaluator.evaluate()\n",
    "    print(results)"
   ]
  },
  {
   "cell_type": "code",
   "execution_count": null,
   "metadata": {
    "collapsed": false,
    "jupyter": {
     "outputs_hidden": false
    },
    "pycharm": {
     "name": "#%%\n"
    }
   },
   "outputs": [],
   "source": []
  },
  {
   "cell_type": "code",
   "execution_count": 29,
   "metadata": {
    "collapsed": false,
    "jupyter": {
     "outputs_hidden": false
    },
    "pycharm": {
     "name": "#%%\n"
    }
   },
   "outputs": [
    {
     "name": "stdout",
     "output_type": "stream",
     "text": [
      "{'ent_type': {'correct': 44, 'incorrect': 0, 'partial': 0, 'missed': 120, 'spurious': 1, 'possible': 164, 'actual': 45, 'precision': 0.9777777777777777, 'recall': 0.2682926829268293, 'f1': 0.42105263157894746}, 'partial': {'correct': 41, 'incorrect': 0, 'partial': 3, 'missed': 120, 'spurious': 1, 'possible': 164, 'actual': 45, 'precision': 0.9444444444444444, 'recall': 0.25914634146341464, 'f1': 0.40669856459330145}, 'strict': {'correct': 41, 'incorrect': 3, 'partial': 0, 'missed': 120, 'spurious': 1, 'possible': 164, 'actual': 45, 'precision': 0.9111111111111111, 'recall': 0.25, 'f1': 0.39234449760765555}, 'exact': {'correct': 41, 'incorrect': 3, 'partial': 0, 'missed': 120, 'spurious': 1, 'possible': 164, 'actual': 45, 'precision': 0.9111111111111111, 'recall': 0.25, 'f1': 0.39234449760765555}}\n"
     ]
    }
   ],
   "source": [
    "## Evalvacija za I. poglavje GoT\n",
    "\n",
    "from chapter__1annotated import chapter1_lst\n",
    "\n",
    "# Kontrola:\n",
    "# print(len(sentences_NER_results))\n",
    "# print(len(chapter1_lst))\n",
    "\n",
    "# for x in range(len(sentences_NER)):\n",
    "#     print(\"-----------\", x)\n",
    "#     print(len(sentences_NER[x]))\n",
    "#     print(len(sentences_NER_results[x]))\n",
    "#     print(len(chapter1_lst[x]))\n",
    "    \n",
    "\n",
    "#     print(sentences_NER[x])\n",
    "#     print(sentences_NER_results[x])\n",
    "#     print(chapter1_lst[x])\n",
    "\n",
    "true = chapter1_lst\n",
    "pred = sentences_NER_results\n",
    "evaluator = Evaluator(true, pred, tags=['PER'], loader=\"list\")\n",
    "\n",
    "results, results_by_tag = evaluator.evaluate()\n",
    "print(results)"
   ]
  },
  {
   "cell_type": "code",
   "execution_count": null,
   "metadata": {},
   "outputs": [],
   "source": []
  }
 ],
 "metadata": {
  "kernelspec": {
   "display_name": "Python 3 (ipykernel)",
   "language": "python",
   "name": "python3"
  },
  "language_info": {
   "codemirror_mode": {
    "name": "ipython",
    "version": 3
   },
   "file_extension": ".py",
   "mimetype": "text/x-python",
   "name": "python",
   "nbconvert_exporter": "python",
   "pygments_lexer": "ipython3",
   "version": "3.8.10"
  }
 },
 "nbformat": 4,
 "nbformat_minor": 4
}