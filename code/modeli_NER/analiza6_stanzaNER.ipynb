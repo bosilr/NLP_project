{
 "cells": [
  {
   "cell_type": "code",
   "execution_count": 90,
   "metadata": {
    "tags": []
   },
   "outputs": [],
   "source": [
    "import stanza\n",
    "import operator\n",
    "from nltk import sent_tokenize, word_tokenize\n",
    "\n",
    "from nervaluate import Evaluator\n",
    "from nltk.tokenize import sent_tokenize"
   ]
  },
  {
   "cell_type": "code",
   "execution_count": 91,
   "metadata": {
    "collapsed": false,
    "jupyter": {
     "outputs_hidden": false
    },
    "pycharm": {
     "name": "#%%\n"
    }
   },
   "outputs": [
    {
     "data": {
      "application/vnd.jupyter.widget-view+json": {
       "model_id": "2f1fdae6e3ff4f27869644e396ca5b2d",
       "version_major": 2,
       "version_minor": 0
      },
      "text/plain": [
       "Downloading https://raw.githubusercontent.com/stanfordnlp/stanza-resources/main/resources_1.4.0.json:   0%|   …"
      ]
     },
     "metadata": {},
     "output_type": "display_data"
    },
    {
     "name": "stderr",
     "output_type": "stream",
     "text": [
      "2022-05-24 22:04:44 INFO: Loading these models for language: en (English):\n",
      "=========================\n",
      "| Processor | Package   |\n",
      "-------------------------\n",
      "| tokenize  | combined  |\n",
      "| ner       | ontonotes |\n",
      "=========================\n",
      "\n",
      "2022-05-24 22:04:44 stanza INFO: Loading these models for language: en (English):\n",
      "=========================\n",
      "| Processor | Package   |\n",
      "-------------------------\n",
      "| tokenize  | combined  |\n",
      "| ner       | ontonotes |\n",
      "=========================\n",
      "\n",
      "2022-05-24 22:04:44 INFO: Use device: cpu\n",
      "2022-05-24 22:04:44 stanza INFO: Use device: cpu\n",
      "2022-05-24 22:04:44 INFO: Loading: tokenize\n",
      "2022-05-24 22:04:44 stanza INFO: Loading: tokenize\n",
      "2022-05-24 22:04:44 INFO: Loading: ner\n",
      "2022-05-24 22:04:44 stanza INFO: Loading: ner\n",
      "2022-05-24 22:04:45 INFO: Done loading processors!\n",
      "2022-05-24 22:04:45 stanza INFO: Done loading processors!\n"
     ]
    }
   ],
   "source": [
    "nlp = stanza.Pipeline(lang='en', processors='tokenize,ner')"
   ]
  },
  {
   "cell_type": "code",
   "execution_count": 92,
   "metadata": {
    "collapsed": false,
    "jupyter": {
     "outputs_hidden": false
    },
    "pycharm": {
     "name": "#%%\n"
    }
   },
   "outputs": [],
   "source": [
    "def read_text(path):\n",
    "    with open(path, encoding=\"utf-8\") as f:\n",
    "        text = f.read()\n",
    "        text = text.replace('\\r', ' ').replace('\\n', ' ')\\\n",
    "            .replace(\"’\", \"'\").replace(\"\\\"\", \"\").replace(\"”\", \"\").replace(\"“\", \"\")\n",
    "    return text\n",
    "\n",
    "def stanza_NER(book):\n",
    "    \"\"\"\n",
    "    stanza_NER vrne seznam, v katerem so shranjene prepoznane identitete glede na posamezni stavek\n",
    "    :param book: str\n",
    "    :return: entity_dict (seznam slovarjev kot npr. [name, tag, start_pos, stop_pos, line_num. token_num])\n",
    "    \"\"\"\n",
    "    \n",
    "\n",
    "    doc = nlp(book)\n",
    "    entity_dict = []\n",
    "    \n",
    "\n",
    "    for line_num, sent in enumerate(doc.sentences):\n",
    "        token_num = 0\n",
    "        #print(sent.words_string())\n",
    "        \n",
    "        for token in sent.tokens:\n",
    "           \n",
    "            # S - samostojna\n",
    "            # B - na zacetku\n",
    "            # I - vmes\n",
    "            # E - na koncu\n",
    "            if token.ner == \"S-PERSON\" or token.ner == \"B-PERSON\" or token.ner == \"E-PERSON\" or token.ner == \"I-PERSON\":\n",
    "                info_dict = {}\n",
    "                info_dict[\"name\"] = token.text\n",
    "                info_dict[\"tag\"] = token.ner\n",
    "                info_dict[\"start_pos\"] = token_num\n",
    "                info_dict[\"stop_pos\"] = token_num +1\n",
    "                info_dict[\"line_num\"] = line_num\n",
    "                entity_dict.append(info_dict)\n",
    "                token_num += 1\n",
    "\n",
    "    return entity_dict\n",
    "\n",
    "\n",
    "def get_names_from_NER(entity_dict):\n",
    "    \"\"\"\n",
    "    get_names_from_NER sprejme entity_dict in vrne urejen seznam terk (\"ime\", št_zaznano)\n",
    "    :param entity_dict: dict (seznam dictov)\n",
    "    :return: unique_names: list\n",
    "    \"\"\"\n",
    "    unique_names = {}\n",
    "\n",
    "    for entity in entity_dict:\n",
    "        if entity[\"tag\"] == \"S-PERSON\" or entity[\"tag\"] == \"N-PERSON\":\n",
    "            if entity[\"name\"] not in unique_names:\n",
    "                unique_names[entity[\"name\"]] = 1\n",
    "            else:\n",
    "                unique_names[entity[\"name\"]] += 1\n",
    "    unique_names = sorted(unique_names.items(), key=operator.itemgetter(1),reverse=True)\n",
    "\n",
    "    return unique_names\n",
    "\n",
    "def merge_person_names(entity_dict):\n",
    "    \"\"\"\n",
    "    merge_person_names sprejme vse označene persone (S,B,I,E - PERSON) in smiselno zloži imena. Vrne (S - Person) če je\n",
    "    nespremenjeno in N - Person če je bila združitev... \n",
    "    :param entity_dict: dict (seznam dictov)\n",
    "    :return: entity_dict_clean: list\n",
    "    \"\"\"\n",
    "    entity_dict_clean = []\n",
    "\n",
    "    for entity_num, entity in enumerate(entity_dict):\n",
    "\n",
    "        if entity[\"tag\"] == \"S-PERSON\":\n",
    "            entity_dict_clean.append(entity)\n",
    "\n",
    "        elif entity[\"tag\"] == \"B-PERSON\":\n",
    "            tmp_entity = entity.copy()\n",
    "            try:\n",
    "                for i in range(10):\n",
    "                    next_entity = entity_dict[entity_num + i]\n",
    "                    if next_entity[\"line_num\"] ==  tmp_entity[\"line_num\"] and (next_entity[\"tag\"] == \"I-PERSON\" or next_entity[\"tag\"] == \"E-PERSON\"):\n",
    "                        tmp_entity[\"name\"] = tmp_entity[\"name\"] + \" \" + next_entity[\"name\"]\n",
    "                        tmp_entity[\"tag\"] = \"N-PERSON\"\n",
    "                        tmp_entity[\"stop_pos\"] = next_entity[\"stop_pos\"]\n",
    "                        if next_entity[\"tag\"] == \"E-PERSON\":\n",
    "                            break\n",
    "            except:\n",
    "                pass\n",
    "            entity_dict_clean.append(tmp_entity)\n",
    "    return entity_dict_clean\n",
    "\n",
    "def conll_read():\n",
    "    with open(\"conll2003/valid.txt\") as f:\n",
    "        lines = f.readlines()\n",
    "    sentences = []\n",
    "    sentences_tag = []\n",
    "    tmp = \"\"\n",
    "    tmp_tag = \"\"\n",
    "    tags = []\n",
    "    for i in range(len(lines)):\n",
    "\n",
    "        line = lines[i]\n",
    "        line = line.split(\" \")\n",
    "        text_word = line[0]\n",
    "\n",
    "        if text_word[0] != \"-\":\n",
    "            if text_word == \"\\n\":\n",
    "                # print(tmp)\n",
    "                # print(tmp_tag)\n",
    "                # print(\"-------\")\n",
    "                sentences.append(tmp)\n",
    "                tmp = \"\"\n",
    "                #sentences_tag.append(tmp_tag)\n",
    "                #tmp_tag = \"\"\n",
    "                sentences_tag.append(tags)\n",
    "                tags = []\n",
    "\n",
    "            elif text_word == \"(\" or text_word == \")\" or text_word == '\"' or text_word == ':':\n",
    "                pass\n",
    "            else:\n",
    "                if text_word[0] != \".\" and text_word[0] != \",\" and text_word[0] != \":\" and text_word[0] != \";\"\\\n",
    "                        and text_word[0] != \"!\" and text_word[0] != \"?\" and text_word[0] != \")\" and text_word[0] != \"'\":   #or text_word[0] != \",\" or text_word[0] != \"(\" or text_word[0] != \")\":\n",
    "                    tmp = tmp + \" \" + text_word\n",
    "                    line[3] = line[3].replace(\"\\n\", \"\")\n",
    "\n",
    "                    if line[3] == \"B-PER\" or line[3] == \"I-PER\":\n",
    "                        #line[3] = \"B-PER\"\n",
    "                        #tmp_tag = tmp_tag + \" \" + line[3]\n",
    "                        tags.append(line[3])\n",
    "                    else:\n",
    "                        line[3] = \"O\"\n",
    "                        #tmp_tag = tmp_tag + \" \" + line[3]\n",
    "                        tags.append(line[3])\n",
    "                else:\n",
    "                    tmp = tmp +  text_word\n",
    "                    line[3] = \"O\"\n",
    "                    tags.append(line[3])\n",
    "    return sentences, sentences_tag"
   ]
  },
  {
   "cell_type": "code",
   "execution_count": 96,
   "metadata": {
    "collapsed": false,
    "jupyter": {
     "outputs_hidden": false
    },
    "pycharm": {
     "name": "#%%\n"
    }
   },
   "outputs": [
    {
     "name": "stdout",
     "output_type": "stream",
     "text": [
      "Bran 46\n",
      "Robb 29\n",
      "Jon 29\n",
      "Jory 9\n",
      "Greyjoy 7\n",
      "Theon Greyjoy 6\n",
      "Hullen 5\n",
      "Stark 3\n",
      "Snow 3\n",
      "Winterfell 2\n",
      "Jory Cassel 2\n",
      "Jon Snow 2\n",
      "Mance Rayder 1\n",
      "Old Nan 1\n",
      "Eddard Stark 1\n",
      "Ice 1\n",
      "Robert of the House Baratheon 1\n",
      "King of the Andals 1\n",
      "Rhoynar 1\n",
      "Eddard 1\n",
      "Warden of the North 1\n",
      "Theon 1\n",
      "Nan 1\n",
      "Robert 1\n",
      "Starks 1\n",
      "Harwin 1\n",
      "Ser Rodrik 's 1\n",
      "Rickon 1\n",
      "no Stark 1\n",
      "Desmond 1\n"
     ]
    }
   ],
   "source": [
    "book = read_text('../../data/books/ASongOfIceAndFire/AGOT/chapters/1_Bran_1.txt')\n",
    "entity_dict = stanza_NER(book)\n",
    "\n",
    "\n",
    "entity_dict_clean = merge_person_names(entity_dict)\n",
    "unique_names = get_names_from_NER(entity_dict_clean)\n",
    "\n",
    "sum_num = 0\n",
    "for (name, num) in unique_names:\n",
    "    if True: #num > 1:\n",
    "        print(name, num)\n",
    "        sum_num = sum_num + num\n",
    "\n",
    "\n",
    "    \n"
   ]
  },
  {
   "cell_type": "code",
   "execution_count": null,
   "metadata": {
    "collapsed": false,
    "jupyter": {
     "outputs_hidden": false
    },
    "pycharm": {
     "name": "#%%\n"
    }
   },
   "outputs": [],
   "source": []
  },
  {
   "cell_type": "code",
   "execution_count": 97,
   "metadata": {
    "collapsed": false,
    "jupyter": {
     "outputs_hidden": false
    },
    "pycharm": {
     "name": "#%%\n"
    }
   },
   "outputs": [],
   "source": [
    "# Evalvacija na datasetu Conll2003 (osredotočena na imena)\n",
    "\n",
    "def eval_wrapper():\n",
    "    sentences, sentences_tag = conll_read()\n",
    "    sentences_NER = []\n",
    "    sentences_NER_results = []\n",
    "    print(len(sentences))\n",
    "    \n",
    "\n",
    "    for lin_num, sent in enumerate(sentences):\n",
    "        \n",
    "        if lin_num % 100 == 0:\n",
    "            print(lin_num)\n",
    "        \n",
    "        words_list = word_tokenize(sent)\n",
    "        tags_list = [\"O\"] * len(words_list)\n",
    "        sentences_NER.append(words_list)\n",
    "        \n",
    "        \n",
    "        entity_dict = stanza_NER(sent)\n",
    "        \n",
    "        for entity in entity_dict:\n",
    "            name = entity[\"name\"]\n",
    "            tag = entity[\"tag\"]\n",
    "            \n",
    "            if tag == \"B-PERSON\" or tag == \"S-PERSON\":\n",
    "                tag = \"B-PER\"\n",
    "            if tag == \"I-PERSON\" or tag == \"E-PERSON\":\n",
    "                tag = \"I-PER\"\n",
    "            try:\n",
    "                idx = words_list.index(name)\n",
    "                tags_list[idx] = tag\n",
    "            except:\n",
    "                print(\"Not found: \", name)\n",
    "                \n",
    "        sentences_NER_results.append(tags_list)\n",
    "        \n",
    "        \n",
    "        \n",
    "        sentences_org, sentences_org_tag = conll_read()\n",
    "        # for x in range(len(sentences_NER)):\n",
    "        #     print(\"-----------\", x)\n",
    "        #     #print(len(sentences_org_tag[x]))\n",
    "        #     print(len(sentences_NER[x]))\n",
    "        #     print(len(sentences_NER_results[x]))\n",
    "\n",
    "        #     #print(sentences_org[x])    # 22 26\n",
    "        #     print(sentences_NER[x])\n",
    "        #     print(sentences_org_tag[x])\n",
    "        #     print(sentences_NER_results[x])\n",
    "        \n",
    "        true = sentences_org_tag\n",
    "        pred = sentences_NER_results\n",
    "        evaluator = Evaluator(true, pred, tags=['PER'], loader=\"list\")\n",
    "\n",
    "        results, results_by_tag = evaluator.evaluate()\n",
    "        print(results)\n",
    "           "
   ]
  },
  {
   "cell_type": "code",
   "execution_count": 87,
   "metadata": {},
   "outputs": [],
   "source": []
  },
  {
   "cell_type": "code",
   "execution_count": 102,
   "metadata": {},
   "outputs": [
    {
     "name": "stdout",
     "output_type": "stream",
     "text": [
      "284\n",
      "0\n",
      "100\n",
      "200\n"
     ]
    }
   ],
   "source": [
    "## Evalvacija za I. poglavje GoT\n",
    "\n",
    "from chapter__1annotated import chapter1_lst\n",
    "\n",
    "def eval_got():\n",
    "    \n",
    "    book = read_text('../../data/books/ASongOfIceAndFire/AGOT/chapters/1_Bran_1.txt')\n",
    "    sentences = sent_tokenize(book)\n",
    "    \n",
    "    sentences_NER = []\n",
    "    sentences_NER_results = []\n",
    "    print(len(sentences))\n",
    "    \n",
    "\n",
    "    for lin_num, sent in enumerate(sentences):\n",
    "        \n",
    "        if lin_num % 100 == 0:\n",
    "            print(lin_num)\n",
    "        \n",
    "        words_list = word_tokenize(sent)\n",
    "        tags_list = [\"O\"] * len(words_list)\n",
    "        sentences_NER.append(words_list)\n",
    "        \n",
    "        \n",
    "        entity_dict = stanza_NER(sent)\n",
    "        \n",
    "        for entity in entity_dict:\n",
    "            name = entity[\"name\"]\n",
    "            tag = entity[\"tag\"]\n",
    "            \n",
    "            if tag == \"B-PERSON\" or tag == \"S-PERSON\":\n",
    "                tag = \"B-PER\"\n",
    "            if tag == \"I-PERSON\" or tag == \"E-PERSON\":\n",
    "                tag = \"I-PER\"\n",
    "            try:\n",
    "                idx = words_list.index(name)\n",
    "                tags_list[idx] = tag\n",
    "            except:\n",
    "                print(\"Not found: \", name)\n",
    "                \n",
    "        sentences_NER_results.append(tags_list)\n",
    "    return sentences_NER, sentences_NER_results\n",
    "    \n",
    "sentences_NER, sentences_NER_results = eval_got()  "
   ]
  },
  {
   "cell_type": "code",
   "execution_count": 105,
   "metadata": {},
   "outputs": [
    {
     "name": "stdout",
     "output_type": "stream",
     "text": [
      "{'ent_type': {'correct': 149, 'incorrect': 0, 'partial': 0, 'missed': 15, 'spurious': 13, 'possible': 164, 'actual': 162, 'precision': 0.9197530864197531, 'recall': 0.9085365853658537, 'f1': 0.9141104294478528}, 'partial': {'correct': 143, 'incorrect': 0, 'partial': 6, 'missed': 15, 'spurious': 13, 'possible': 164, 'actual': 162, 'precision': 0.9012345679012346, 'recall': 0.8902439024390244, 'f1': 0.8957055214723927}, 'strict': {'correct': 143, 'incorrect': 6, 'partial': 0, 'missed': 15, 'spurious': 13, 'possible': 164, 'actual': 162, 'precision': 0.8827160493827161, 'recall': 0.8719512195121951, 'f1': 0.8773006134969324}, 'exact': {'correct': 143, 'incorrect': 6, 'partial': 0, 'missed': 15, 'spurious': 13, 'possible': 164, 'actual': 162, 'precision': 0.8827160493827161, 'recall': 0.8719512195121951, 'f1': 0.8773006134969324}}\n"
     ]
    }
   ],
   "source": [
    "from chapter__1annotated import chapter1_lst\n",
    "\n",
    "# Kontrola:\n",
    "# print(len(sentences_NER_results))\n",
    "# print(len(chapter1_lst))\n",
    "# for x in range(len(sentences_NER)):\n",
    "#     print(\"-----------\", x)\n",
    "#     print(len(sentences_NER[x]))\n",
    "#     print(len(sentences_NER_results[x]))\n",
    "#     print(len(chapter1_lst[x]))\n",
    "    \n",
    "\n",
    "#     print(sentences_NER[x])\n",
    "#     print(sentences_NER_results[x])\n",
    "#     print(chapter1_lst[x])\n",
    "\n",
    "true = chapter1_lst\n",
    "pred = sentences_NER_results\n",
    "evaluator = Evaluator(true, pred, tags=['PER'], loader=\"list\")\n",
    "\n",
    "results, results_by_tag = evaluator.evaluate()\n",
    "print(results)"
   ]
  },
  {
   "cell_type": "code",
   "execution_count": null,
   "metadata": {},
   "outputs": [],
   "source": []
  }
 ],
 "metadata": {
  "kernelspec": {
   "display_name": "Python 3 (ipykernel)",
   "language": "python",
   "name": "python3"
  },
  "language_info": {
   "codemirror_mode": {
    "name": "ipython",
    "version": 3
   },
   "file_extension": ".py",
   "mimetype": "text/x-python",
   "name": "python",
   "nbconvert_exporter": "python",
   "pygments_lexer": "ipython3",
   "version": "3.8.10"
  }
 },
 "nbformat": 4,
 "nbformat_minor": 4
}
