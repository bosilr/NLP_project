{
 "cells": [
  {
   "cell_type": "code",
   "execution_count": 6,
   "outputs": [],
   "source": [
    "# -----------------------------------------------------------\n",
    "# Faza 2:\n",
    "# Implementacija flair NER\n",
    "# -----------------------------------------------------------\n",
    "\n",
    "\n",
    "# import nltk\n",
    "# from nltk import pos_tag, word_tokenize\n",
    "# from nltk.corpus import stopwords\n",
    "# nltk.download('stopwords')\n",
    "# nltk.download('punkt')\n",
    "# nltk.download('gutenberg')\n",
    "# import re\n",
    "# import string\n",
    "# from itertools import combinations\n",
    "# from collections import Counter\n",
    "\n",
    "\n",
    "from nltk.tokenize import sent_tokenize\n",
    "from tqdm import tqdm\n",
    "from flair.models import SequenceTagger\n",
    "from flair.data import Sentence\n",
    "import operator\n"
   ],
   "metadata": {
    "collapsed": false,
    "pycharm": {
     "name": "#%%\n"
    }
   }
  },
  {
   "cell_type": "code",
   "execution_count": 7,
   "outputs": [
    {
     "name": "stdout",
     "output_type": "stream",
     "text": [
      "2022-05-19 10:46:01,741 loading file /Users/matijagercer/.flair/models/ner-english/4f4cdab26f24cb98b732b389e6cebc646c36f54cfd6e0b7d3b90b25656e4262f.8baa8ae8795f4df80b28e7f7b61d788ecbb057d1dc85aacb316f1bd02837a4a4\n",
      "2022-05-19 10:46:06,352 SequenceTagger predicts: Dictionary with 20 tags: <unk>, O, S-ORG, S-MISC, B-PER, E-PER, S-LOC, B-ORG, E-ORG, I-PER, S-PER, B-MISC, I-MISC, E-MISC, I-ORG, B-LOC, E-LOC, I-LOC, <START>, <STOP>\n"
     ]
    }
   ],
   "source": [
    "# Use flair named entity recognition\n",
    "tagger = SequenceTagger.load('ner')     # ner, ner-ontonotes, ..."
   ],
   "metadata": {
    "collapsed": false,
    "pycharm": {
     "name": "#%%\n"
    }
   }
  },
  {
   "cell_type": "code",
   "execution_count": 12,
   "id": "e44244bb-bce5-4138-a785-d8bf97b53284",
   "metadata": {},
   "outputs": [],
   "source": [
    "def read_text(path):\n",
    "    with open(path, encoding=\"utf-8\") as f:\n",
    "        text = f.read()\n",
    "        text = text.replace('\\r', ' ').replace('\\n', ' ')\\\n",
    "            .replace(\"’\", \"'\").replace(\"\\\"\", \"\").replace(\"”\", \"\").replace(\"“\", \"\")\n",
    "    return text\n",
    "\n",
    "def flair_NER(book):\n",
    "    \"\"\"\n",
    "    flair_NER vrne seznam, v katerem so shranjene prepoznane identitete glede na posamezni stavek\n",
    "    :param book: str\n",
    "    :return: entity_dict (seznam slovarjev kot npr. [name, tag, start_pos, stop_pos, line_num. token_num])\n",
    "    \"\"\"\n",
    "\n",
    "    # 00 Pretvori knjigo v stavke:\n",
    "    sent = sent_tokenize(book)\n",
    "\n",
    "    # 01 NER model\n",
    "    entity_dict = []\n",
    "    for line_num, line in enumerate(tqdm(sent)):\n",
    "\n",
    "        # 01a Predict:\n",
    "        sentence = Sentence(line)\n",
    "        tagger.predict(sentence)\n",
    "\n",
    "        # 01b Vmesni izpis (brez lokacije):\n",
    "        #print(sentence.to_tagged_string())\n",
    "        #print(sentence.get_spans('ner'))\n",
    "\n",
    "        # 01c Ekstrakcija podatka iz stavka:\n",
    "        for entity in sentence.get_spans('ner'):        # veliko različnih flair - nerov\n",
    "            name = entity.text\n",
    "\n",
    "            # str location\n",
    "            # start_pos = entity.start_position    # št. str\n",
    "            # stop_pos = entity.end_position      # št. str\n",
    "\n",
    "            # token location\n",
    "            tmp_flag = True\n",
    "            for token in entity:\n",
    "                if tmp_flag:\n",
    "                    start_pos = token.idx -1\n",
    "                    stop_pos = token.idx\n",
    "                else:\n",
    "                    stop_pos = token.idx\n",
    "                tmp_flag = False\n",
    "\n",
    "            tag = entity.get_label(\"ner\").value             # tag = entity.tag\n",
    "            conf_score = entity.get_label(\"ner\").score      # conf_score = entity.score\n",
    "\n",
    "            info_dict = {}\n",
    "            info_dict[\"name\"] = name\n",
    "            info_dict[\"tag\"] = tag\n",
    "            info_dict[\"start_pos\"] = start_pos\n",
    "            info_dict[\"stop_pos\"] = stop_pos\n",
    "            info_dict[\"line_num\"] = line_num\n",
    "\n",
    "            entity_dict.append(info_dict)\n",
    "\n",
    "    return entity_dict\n",
    "\n",
    "def get_names_from_NER(entity_dict):\n",
    "    \"\"\"\n",
    "    get_names_from_NER sprejme entity_dict in vrne urejen seznam terk (\"ime\", št_zaznano)\n",
    "    :param entity_dict: dict (seznam dictov)\n",
    "    :return: unique_names: list\n",
    "    \"\"\"\n",
    "    unique_names = {}\n",
    "\n",
    "    for entity in entity_dict:\n",
    "        if entity[\"tag\"] == \"PER\":\n",
    "            if entity[\"name\"] not in unique_names:\n",
    "                unique_names[entity[\"name\"]] = 1\n",
    "            else:\n",
    "                unique_names[entity[\"name\"]] += 1\n",
    "    unique_names = sorted(unique_names.items(), key=operator.itemgetter(1),reverse=True)\n",
    "\n",
    "    return unique_names"
   ]
  },
  {
   "cell_type": "code",
   "execution_count": 15,
   "outputs": [
    {
     "name": "stderr",
     "output_type": "stream",
     "text": [
      "100%|██████████| 284/284 [02:19<00:00,  2.04it/s]"
     ]
    },
    {
     "name": "stdout",
     "output_type": "stream",
     "text": [
      "Bran 46\n",
      "Robb 29\n",
      "Jon 28\n",
      "Jory 9\n",
      "Greyjoy 7\n",
      "Theon Greyjoy 6\n",
      "Father 5\n",
      "Hullen 5\n",
      "Jon Snow 3\n",
      "Old Nan 2\n",
      "Lord Stark 2\n",
      "Jory Cassel 2\n",
      "House Stark 2\n",
      "Stark 2\n",
      "Mance Rayder 1\n",
      "Eddard Stark 1\n",
      "Robert of the House Baratheon 1\n",
      "Eddard 1\n",
      "Lord of Winterfell 1\n",
      "Theon 1\n",
      "Robert 1\n",
      "Starks 1\n",
      "Gods 1\n",
      "Harwin 1\n",
      "Ser Rodrik 1\n",
      "Rickon 1\n",
      "Snow 1\n",
      "Desmond 1\n"
     ]
    },
    {
     "name": "stderr",
     "output_type": "stream",
     "text": [
      "\n"
     ]
    }
   ],
   "source": [
    "book = read_text('../data/books/ASongOfIceAndFire/AGOT/chapters/Bran_1_1.txt')\n",
    "entity_dict = flair_NER(book)\n",
    "unique_names = get_names_from_NER(entity_dict)\n",
    "\n",
    "for (name, num) in unique_names:\n",
    "    if True: #num > 1:\n",
    "        print(name, num)"
   ],
   "metadata": {
    "collapsed": false,
    "pycharm": {
     "name": "#%%\n"
    }
   }
  },
  {
   "cell_type": "code",
   "execution_count": null,
   "outputs": [],
   "source": [],
   "metadata": {
    "collapsed": false,
    "pycharm": {
     "name": "#%%\n"
    }
   }
  }
 ],
 "metadata": {
  "kernelspec": {
   "display_name": "Python 3 (ipykernel)",
   "language": "python",
   "name": "python3"
  },
  "language_info": {
   "codemirror_mode": {
    "name": "ipython",
    "version": 3
   },
   "file_extension": ".py",
   "mimetype": "text/x-python",
   "name": "python",
   "nbconvert_exporter": "python",
   "pygments_lexer": "ipython3",
   "version": "3.8.10"
  }
 },
 "nbformat": 4,
 "nbformat_minor": 5
}